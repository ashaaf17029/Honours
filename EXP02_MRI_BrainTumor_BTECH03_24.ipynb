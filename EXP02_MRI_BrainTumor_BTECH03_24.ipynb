{
  "cells": [
    {
      "cell_type": "code",
      "execution_count": 1,
      "metadata": {
        "colab": {
          "base_uri": "https://localhost:8080/"
        },
        "id": "t4sDZQxUm9WT",
        "outputId": "91874337-64a3-4c6c-a7e5-cbdc3207f876"
      },
      "outputs": [
        {
          "output_type": "stream",
          "name": "stdout",
          "text": [
            "Cloning into 'AI-for-Medicine-Specialization'...\n",
            "remote: Enumerating objects: 1601, done.\u001b[K\n",
            "remote: Counting objects: 100% (28/28), done.\u001b[K\n",
            "remote: Compressing objects: 100% (28/28), done.\u001b[K\n",
            "remote: Total 1601 (delta 9), reused 2 (delta 0), pack-reused 1573 (from 1)\u001b[K\n",
            "Receiving objects: 100% (1601/1601), 720.36 MiB | 27.17 MiB/s, done.\n",
            "Resolving deltas: 100% (30/30), done.\n",
            "Updating files: 100% (1497/1497), done.\n",
            "/content/AI-for-Medicine-Specialization/AI-for-Medical-Diagnosis\n"
          ]
        }
      ],
      "source": [
        "!git clone https://github.com/hardik0/AI-for-Medicine-Specialization\n",
        "%cd AI-for-Medicine-Specialization/AI-for-Medical-Diagnosis/"
      ]
    },
    {
      "cell_type": "code",
      "execution_count": 2,
      "metadata": {
        "colab": {
          "base_uri": "https://localhost:8080/",
          "height": 1000
        },
        "id": "qHnNw80PnzAg",
        "outputId": "4e3f1f4d-37ac-4f6d-ba25-6b3814440a5d"
      },
      "outputs": [
        {
          "output_type": "stream",
          "name": "stdout",
          "text": [
            "Collecting itk\n",
            "  Downloading itk-5.4.4.post1-cp311-abi3-manylinux_2_28_x86_64.whl.metadata (22 kB)\n",
            "Collecting itkwidgets\n",
            "  Downloading itkwidgets-0.32.6-py2.py3-none-any.whl.metadata (20 kB)\n",
            "Requirement already satisfied: ipywidgets in /usr/local/lib/python3.12/dist-packages (7.7.1)\n",
            "Collecting itk-core==5.4.4.post1 (from itk)\n",
            "  Downloading itk_core-5.4.4.post1-cp311-abi3-manylinux_2_27_x86_64.manylinux_2_28_x86_64.whl.metadata (22 kB)\n",
            "Collecting itk-numerics==5.4.4.post1 (from itk)\n",
            "  Downloading itk_numerics-5.4.4.post1-cp311-abi3-manylinux_2_27_x86_64.manylinux_2_28_x86_64.whl.metadata (22 kB)\n",
            "Collecting itk-io==5.4.4.post1 (from itk)\n",
            "  Downloading itk_io-5.4.4.post1-cp311-abi3-manylinux_2_28_x86_64.whl.metadata (22 kB)\n",
            "Collecting itk-filtering==5.4.4.post1 (from itk)\n",
            "  Downloading itk_filtering-5.4.4.post1-cp311-abi3-manylinux_2_27_x86_64.manylinux_2_28_x86_64.whl.metadata (22 kB)\n",
            "Collecting itk-registration==5.4.4.post1 (from itk)\n",
            "  Downloading itk_registration-5.4.4.post1-cp311-abi3-manylinux_2_27_x86_64.manylinux_2_28_x86_64.whl.metadata (22 kB)\n",
            "Collecting itk-segmentation==5.4.4.post1 (from itk)\n",
            "  Downloading itk_segmentation-5.4.4.post1-cp311-abi3-manylinux_2_27_x86_64.manylinux_2_28_x86_64.whl.metadata (22 kB)\n",
            "Requirement already satisfied: numpy in /usr/local/lib/python3.12/dist-packages (from itk) (2.0.2)\n",
            "Requirement already satisfied: colorcet in /usr/local/lib/python3.12/dist-packages (from itkwidgets) (3.1.0)\n",
            "Collecting itk-meshtopolydata>=0.10 (from itkwidgets)\n",
            "  Downloading itk_meshtopolydata-0.11.1-cp311-abi3-manylinux_2_28_x86_64.whl.metadata (15 kB)\n",
            "Collecting ipydatawidgets<4.3.3,>=4.0.1 (from itkwidgets)\n",
            "  Downloading ipydatawidgets-4.3.2-py2.py3-none-any.whl.metadata (1.3 kB)\n",
            "Collecting ipympl>=0.4.1 (from itkwidgets)\n",
            "  Downloading ipympl-0.9.8-py3-none-any.whl.metadata (8.9 kB)\n",
            "Requirement already satisfied: matplotlib in /usr/local/lib/python3.12/dist-packages (from itkwidgets) (3.10.0)\n",
            "Requirement already satisfied: six in /usr/local/lib/python3.12/dist-packages (from itkwidgets) (1.17.0)\n",
            "Requirement already satisfied: zstandard in /usr/local/lib/python3.12/dist-packages (from itkwidgets) (0.25.0)\n",
            "Collecting traitlets<5.7.0 (from itkwidgets)\n",
            "  Downloading traitlets-5.6.0-py3-none-any.whl.metadata (10 kB)\n",
            "Collecting notebook<6.5.0 (from itkwidgets)\n",
            "  Downloading notebook-6.4.13-py3-none-any.whl.metadata (2.5 kB)\n",
            "Requirement already satisfied: ipykernel>=4.5.1 in /usr/local/lib/python3.12/dist-packages (from ipywidgets) (6.17.1)\n",
            "Requirement already satisfied: ipython-genutils~=0.2.0 in /usr/local/lib/python3.12/dist-packages (from ipywidgets) (0.2.0)\n",
            "Requirement already satisfied: widgetsnbextension~=3.6.0 in /usr/local/lib/python3.12/dist-packages (from ipywidgets) (3.6.10)\n",
            "Requirement already satisfied: ipython>=4.0.0 in /usr/local/lib/python3.12/dist-packages (from ipywidgets) (7.34.0)\n",
            "Requirement already satisfied: jupyterlab-widgets>=1.0.0 in /usr/local/lib/python3.12/dist-packages (from ipywidgets) (3.0.15)\n",
            "Requirement already satisfied: traittypes>=0.2.0 in /usr/local/lib/python3.12/dist-packages (from ipydatawidgets<4.3.3,>=4.0.1->itkwidgets) (0.2.3)\n",
            "Requirement already satisfied: debugpy>=1.0 in /usr/local/lib/python3.12/dist-packages (from ipykernel>=4.5.1->ipywidgets) (1.8.15)\n",
            "Requirement already satisfied: jupyter-client>=6.1.12 in /usr/local/lib/python3.12/dist-packages (from ipykernel>=4.5.1->ipywidgets) (7.4.9)\n",
            "Requirement already satisfied: matplotlib-inline>=0.1 in /usr/local/lib/python3.12/dist-packages (from ipykernel>=4.5.1->ipywidgets) (0.2.1)\n",
            "Requirement already satisfied: nest-asyncio in /usr/local/lib/python3.12/dist-packages (from ipykernel>=4.5.1->ipywidgets) (1.6.0)\n",
            "Requirement already satisfied: packaging in /usr/local/lib/python3.12/dist-packages (from ipykernel>=4.5.1->ipywidgets) (25.0)\n",
            "Requirement already satisfied: psutil in /usr/local/lib/python3.12/dist-packages (from ipykernel>=4.5.1->ipywidgets) (5.9.5)\n",
            "Requirement already satisfied: pyzmq>=17 in /usr/local/lib/python3.12/dist-packages (from ipykernel>=4.5.1->ipywidgets) (26.2.1)\n",
            "Requirement already satisfied: tornado>=6.1 in /usr/local/lib/python3.12/dist-packages (from ipykernel>=4.5.1->ipywidgets) (6.5.1)\n",
            "Requirement already satisfied: pillow in /usr/local/lib/python3.12/dist-packages (from ipympl>=0.4.1->itkwidgets) (11.3.0)\n",
            "Requirement already satisfied: setuptools>=18.5 in /usr/local/lib/python3.12/dist-packages (from ipython>=4.0.0->ipywidgets) (75.2.0)\n",
            "Collecting jedi>=0.16 (from ipython>=4.0.0->ipywidgets)\n",
            "  Downloading jedi-0.19.2-py2.py3-none-any.whl.metadata (22 kB)\n",
            "Requirement already satisfied: decorator in /usr/local/lib/python3.12/dist-packages (from ipython>=4.0.0->ipywidgets) (4.4.2)\n",
            "Requirement already satisfied: pickleshare in /usr/local/lib/python3.12/dist-packages (from ipython>=4.0.0->ipywidgets) (0.7.5)\n",
            "Requirement already satisfied: prompt-toolkit!=3.0.0,!=3.0.1,<3.1.0,>=2.0.0 in /usr/local/lib/python3.12/dist-packages (from ipython>=4.0.0->ipywidgets) (3.0.52)\n",
            "Requirement already satisfied: pygments in /usr/local/lib/python3.12/dist-packages (from ipython>=4.0.0->ipywidgets) (2.19.2)\n",
            "Requirement already satisfied: backcall in /usr/local/lib/python3.12/dist-packages (from ipython>=4.0.0->ipywidgets) (0.2.0)\n",
            "Requirement already satisfied: pexpect>4.3 in /usr/local/lib/python3.12/dist-packages (from ipython>=4.0.0->ipywidgets) (4.9.0)\n",
            "Requirement already satisfied: contourpy>=1.0.1 in /usr/local/lib/python3.12/dist-packages (from matplotlib->itkwidgets) (1.3.3)\n",
            "Requirement already satisfied: cycler>=0.10 in /usr/local/lib/python3.12/dist-packages (from matplotlib->itkwidgets) (0.12.1)\n",
            "Requirement already satisfied: fonttools>=4.22.0 in /usr/local/lib/python3.12/dist-packages (from matplotlib->itkwidgets) (4.60.1)\n",
            "Requirement already satisfied: kiwisolver>=1.3.1 in /usr/local/lib/python3.12/dist-packages (from matplotlib->itkwidgets) (1.4.9)\n",
            "Requirement already satisfied: pyparsing>=2.3.1 in /usr/local/lib/python3.12/dist-packages (from matplotlib->itkwidgets) (3.2.5)\n",
            "Requirement already satisfied: python-dateutil>=2.7 in /usr/local/lib/python3.12/dist-packages (from matplotlib->itkwidgets) (2.9.0.post0)\n",
            "Requirement already satisfied: jinja2 in /usr/local/lib/python3.12/dist-packages (from notebook<6.5.0->itkwidgets) (3.1.6)\n",
            "Requirement already satisfied: argon2-cffi in /usr/local/lib/python3.12/dist-packages (from notebook<6.5.0->itkwidgets) (25.1.0)\n",
            "Requirement already satisfied: jupyter-core>=4.6.1 in /usr/local/lib/python3.12/dist-packages (from notebook<6.5.0->itkwidgets) (5.9.1)\n",
            "Requirement already satisfied: nbformat in /usr/local/lib/python3.12/dist-packages (from notebook<6.5.0->itkwidgets) (5.10.4)\n",
            "Requirement already satisfied: nbconvert>=5 in /usr/local/lib/python3.12/dist-packages (from notebook<6.5.0->itkwidgets) (7.16.6)\n",
            "Requirement already satisfied: Send2Trash>=1.8.0 in /usr/local/lib/python3.12/dist-packages (from notebook<6.5.0->itkwidgets) (1.8.3)\n",
            "Requirement already satisfied: terminado>=0.8.3 in /usr/local/lib/python3.12/dist-packages (from notebook<6.5.0->itkwidgets) (0.18.1)\n",
            "Requirement already satisfied: prometheus-client in /usr/local/lib/python3.12/dist-packages (from notebook<6.5.0->itkwidgets) (0.23.1)\n",
            "Requirement already satisfied: parso<0.9.0,>=0.8.4 in /usr/local/lib/python3.12/dist-packages (from jedi>=0.16->ipython>=4.0.0->ipywidgets) (0.8.5)\n",
            "Requirement already satisfied: entrypoints in /usr/local/lib/python3.12/dist-packages (from jupyter-client>=6.1.12->ipykernel>=4.5.1->ipywidgets) (0.4)\n",
            "Requirement already satisfied: platformdirs>=2.5 in /usr/local/lib/python3.12/dist-packages (from jupyter-core>=4.6.1->notebook<6.5.0->itkwidgets) (4.5.0)\n",
            "Requirement already satisfied: beautifulsoup4 in /usr/local/lib/python3.12/dist-packages (from nbconvert>=5->notebook<6.5.0->itkwidgets) (4.13.5)\n",
            "Requirement already satisfied: bleach!=5.0.0 in /usr/local/lib/python3.12/dist-packages (from bleach[css]!=5.0.0->nbconvert>=5->notebook<6.5.0->itkwidgets) (6.3.0)\n",
            "Requirement already satisfied: defusedxml in /usr/local/lib/python3.12/dist-packages (from nbconvert>=5->notebook<6.5.0->itkwidgets) (0.7.1)\n",
            "Requirement already satisfied: jupyterlab-pygments in /usr/local/lib/python3.12/dist-packages (from nbconvert>=5->notebook<6.5.0->itkwidgets) (0.3.0)\n",
            "Requirement already satisfied: markupsafe>=2.0 in /usr/local/lib/python3.12/dist-packages (from nbconvert>=5->notebook<6.5.0->itkwidgets) (3.0.3)\n",
            "Requirement already satisfied: mistune<4,>=2.0.3 in /usr/local/lib/python3.12/dist-packages (from nbconvert>=5->notebook<6.5.0->itkwidgets) (3.1.4)\n",
            "Requirement already satisfied: nbclient>=0.5.0 in /usr/local/lib/python3.12/dist-packages (from nbconvert>=5->notebook<6.5.0->itkwidgets) (0.10.2)\n",
            "Requirement already satisfied: pandocfilters>=1.4.1 in /usr/local/lib/python3.12/dist-packages (from nbconvert>=5->notebook<6.5.0->itkwidgets) (1.5.1)\n",
            "Requirement already satisfied: fastjsonschema>=2.15 in /usr/local/lib/python3.12/dist-packages (from nbformat->notebook<6.5.0->itkwidgets) (2.21.2)\n",
            "Requirement already satisfied: jsonschema>=2.6 in /usr/local/lib/python3.12/dist-packages (from nbformat->notebook<6.5.0->itkwidgets) (4.25.1)\n",
            "Requirement already satisfied: ptyprocess>=0.5 in /usr/local/lib/python3.12/dist-packages (from pexpect>4.3->ipython>=4.0.0->ipywidgets) (0.7.0)\n",
            "Requirement already satisfied: wcwidth in /usr/local/lib/python3.12/dist-packages (from prompt-toolkit!=3.0.0,!=3.0.1,<3.1.0,>=2.0.0->ipython>=4.0.0->ipywidgets) (0.2.14)\n",
            "Requirement already satisfied: argon2-cffi-bindings in /usr/local/lib/python3.12/dist-packages (from argon2-cffi->notebook<6.5.0->itkwidgets) (25.1.0)\n",
            "Requirement already satisfied: webencodings in /usr/local/lib/python3.12/dist-packages (from bleach!=5.0.0->bleach[css]!=5.0.0->nbconvert>=5->notebook<6.5.0->itkwidgets) (0.5.1)\n",
            "Requirement already satisfied: tinycss2<1.5,>=1.1.0 in /usr/local/lib/python3.12/dist-packages (from bleach[css]!=5.0.0->nbconvert>=5->notebook<6.5.0->itkwidgets) (1.4.0)\n",
            "Requirement already satisfied: attrs>=22.2.0 in /usr/local/lib/python3.12/dist-packages (from jsonschema>=2.6->nbformat->notebook<6.5.0->itkwidgets) (25.4.0)\n",
            "Requirement already satisfied: jsonschema-specifications>=2023.03.6 in /usr/local/lib/python3.12/dist-packages (from jsonschema>=2.6->nbformat->notebook<6.5.0->itkwidgets) (2025.9.1)\n",
            "Requirement already satisfied: referencing>=0.28.4 in /usr/local/lib/python3.12/dist-packages (from jsonschema>=2.6->nbformat->notebook<6.5.0->itkwidgets) (0.37.0)\n",
            "Requirement already satisfied: rpds-py>=0.7.1 in /usr/local/lib/python3.12/dist-packages (from jsonschema>=2.6->nbformat->notebook<6.5.0->itkwidgets) (0.28.0)\n",
            "Requirement already satisfied: cffi>=1.0.1 in /usr/local/lib/python3.12/dist-packages (from argon2-cffi-bindings->argon2-cffi->notebook<6.5.0->itkwidgets) (2.0.0)\n",
            "Requirement already satisfied: soupsieve>1.2 in /usr/local/lib/python3.12/dist-packages (from beautifulsoup4->nbconvert>=5->notebook<6.5.0->itkwidgets) (2.8)\n",
            "Requirement already satisfied: typing-extensions>=4.0.0 in /usr/local/lib/python3.12/dist-packages (from beautifulsoup4->nbconvert>=5->notebook<6.5.0->itkwidgets) (4.15.0)\n",
            "Requirement already satisfied: pycparser in /usr/local/lib/python3.12/dist-packages (from cffi>=1.0.1->argon2-cffi-bindings->argon2-cffi->notebook<6.5.0->itkwidgets) (2.23)\n",
            "Downloading itk-5.4.4.post1-cp311-abi3-manylinux_2_28_x86_64.whl (16 kB)\n",
            "Downloading itk_core-5.4.4.post1-cp311-abi3-manylinux_2_27_x86_64.manylinux_2_28_x86_64.whl (80.9 MB)\n",
            "\u001b[2K   \u001b[90m━━━━━━━━━━━━━━━━━━━━━━━━━━━━━━━━━━━━━━━━\u001b[0m \u001b[32m80.9/80.9 MB\u001b[0m \u001b[31m13.0 MB/s\u001b[0m eta \u001b[36m0:00:00\u001b[0m\n",
            "\u001b[?25hDownloading itk_filtering-5.4.4.post1-cp311-abi3-manylinux_2_27_x86_64.manylinux_2_28_x86_64.whl (67.8 MB)\n",
            "\u001b[2K   \u001b[90m━━━━━━━━━━━━━━━━━━━━━━━━━━━━━━━━━━━━━━━━\u001b[0m \u001b[32m67.8/67.8 MB\u001b[0m \u001b[31m10.7 MB/s\u001b[0m eta \u001b[36m0:00:00\u001b[0m\n",
            "\u001b[?25hDownloading itk_io-5.4.4.post1-cp311-abi3-manylinux_2_28_x86_64.whl (28.0 MB)\n",
            "\u001b[2K   \u001b[90m━━━━━━━━━━━━━━━━━━━━━━━━━━━━━━━━━━━━━━━━\u001b[0m \u001b[32m28.0/28.0 MB\u001b[0m \u001b[31m73.2 MB/s\u001b[0m eta \u001b[36m0:00:00\u001b[0m\n",
            "\u001b[?25hDownloading itk_numerics-5.4.4.post1-cp311-abi3-manylinux_2_27_x86_64.manylinux_2_28_x86_64.whl (57.2 MB)\n",
            "\u001b[2K   \u001b[90m━━━━━━━━━━━━━━━━━━━━━━━━━━━━━━━━━━━━━━━━\u001b[0m \u001b[32m57.2/57.2 MB\u001b[0m \u001b[31m12.4 MB/s\u001b[0m eta \u001b[36m0:00:00\u001b[0m\n",
            "\u001b[?25hDownloading itk_registration-5.4.4.post1-cp311-abi3-manylinux_2_27_x86_64.manylinux_2_28_x86_64.whl (28.5 MB)\n",
            "\u001b[2K   \u001b[90m━━━━━━━━━━━━━━━━━━━━━━━━━━━━━━━━━━━━━━━━\u001b[0m \u001b[32m28.5/28.5 MB\u001b[0m \u001b[31m69.8 MB/s\u001b[0m eta \u001b[36m0:00:00\u001b[0m\n",
            "\u001b[?25hDownloading itk_segmentation-5.4.4.post1-cp311-abi3-manylinux_2_27_x86_64.manylinux_2_28_x86_64.whl (15.9 MB)\n",
            "\u001b[2K   \u001b[90m━━━━━━━━━━━━━━━━━━━━━━━━━━━━━━━━━━━━━━━━\u001b[0m \u001b[32m15.9/15.9 MB\u001b[0m \u001b[31m91.2 MB/s\u001b[0m eta \u001b[36m0:00:00\u001b[0m\n",
            "\u001b[?25hDownloading itkwidgets-0.32.6-py2.py3-none-any.whl (3.4 MB)\n",
            "\u001b[2K   \u001b[90m━━━━━━━━━━━━━━━━━━━━━━━━━━━━━━━━━━━━━━━━\u001b[0m \u001b[32m3.4/3.4 MB\u001b[0m \u001b[31m87.7 MB/s\u001b[0m eta \u001b[36m0:00:00\u001b[0m\n",
            "\u001b[?25hDownloading ipydatawidgets-4.3.2-py2.py3-none-any.whl (271 kB)\n",
            "\u001b[2K   \u001b[90m━━━━━━━━━━━━━━━━━━━━━━━━━━━━━━━━━━━━━━━━\u001b[0m \u001b[32m271.6/271.6 kB\u001b[0m \u001b[31m18.0 MB/s\u001b[0m eta \u001b[36m0:00:00\u001b[0m\n",
            "\u001b[?25hDownloading ipympl-0.9.8-py3-none-any.whl (515 kB)\n",
            "\u001b[2K   \u001b[90m━━━━━━━━━━━━━━━━━━━━━━━━━━━━━━━━━━━━━━━━\u001b[0m \u001b[32m515.8/515.8 kB\u001b[0m \u001b[31m32.9 MB/s\u001b[0m eta \u001b[36m0:00:00\u001b[0m\n",
            "\u001b[?25hDownloading itk_meshtopolydata-0.11.1-cp311-abi3-manylinux_2_28_x86_64.whl (2.4 MB)\n",
            "\u001b[2K   \u001b[90m━━━━━━━━━━━━━━━━━━━━━━━━━━━━━━━━━━━━━━━━\u001b[0m \u001b[32m2.4/2.4 MB\u001b[0m \u001b[31m73.3 MB/s\u001b[0m eta \u001b[36m0:00:00\u001b[0m\n",
            "\u001b[?25hDownloading notebook-6.4.13-py3-none-any.whl (9.9 MB)\n",
            "\u001b[2K   \u001b[90m━━━━━━━━━━━━━━━━━━━━━━━━━━━━━━━━━━━━━━━━\u001b[0m \u001b[32m9.9/9.9 MB\u001b[0m \u001b[31m108.5 MB/s\u001b[0m eta \u001b[36m0:00:00\u001b[0m\n",
            "\u001b[?25hDownloading traitlets-5.6.0-py3-none-any.whl (107 kB)\n",
            "\u001b[2K   \u001b[90m━━━━━━━━━━━━━━━━━━━━━━━━━━━━━━━━━━━━━━━━\u001b[0m \u001b[32m107.5/107.5 kB\u001b[0m \u001b[31m8.9 MB/s\u001b[0m eta \u001b[36m0:00:00\u001b[0m\n",
            "\u001b[?25hDownloading jedi-0.19.2-py2.py3-none-any.whl (1.6 MB)\n",
            "\u001b[2K   \u001b[90m━━━━━━━━━━━━━━━━━━━━━━━━━━━━━━━━━━━━━━━━\u001b[0m \u001b[32m1.6/1.6 MB\u001b[0m \u001b[31m75.4 MB/s\u001b[0m eta \u001b[36m0:00:00\u001b[0m\n",
            "\u001b[?25hInstalling collected packages: traitlets, jedi, itk-core, itk-numerics, itk-meshtopolydata, itk-io, itk-filtering, itk-segmentation, itk-registration, itk, notebook, ipympl, ipydatawidgets, itkwidgets\n",
            "  Attempting uninstall: traitlets\n",
            "    Found existing installation: traitlets 5.7.1\n",
            "    Uninstalling traitlets-5.7.1:\n",
            "      Successfully uninstalled traitlets-5.7.1\n",
            "  Attempting uninstall: notebook\n",
            "    Found existing installation: notebook 6.5.7\n",
            "    Uninstalling notebook-6.5.7:\n",
            "      Successfully uninstalled notebook-6.5.7\n",
            "Successfully installed ipydatawidgets-4.3.2 ipympl-0.9.8 itk-5.4.4.post1 itk-core-5.4.4.post1 itk-filtering-5.4.4.post1 itk-io-5.4.4.post1 itk-meshtopolydata-0.11.1 itk-numerics-5.4.4.post1 itk-registration-5.4.4.post1 itk-segmentation-5.4.4.post1 itkwidgets-0.32.6 jedi-0.19.2 notebook-6.4.13 traitlets-5.6.0\n"
          ]
        },
        {
          "output_type": "display_data",
          "data": {
            "application/vnd.colab-display-data+json": {
              "pip_warning": {
                "packages": [
                  "traitlets"
                ]
              },
              "id": "465984d842cf43678bd933164dd4d13e"
            }
          },
          "metadata": {}
        }
      ],
      "source": [
        "!pip install itk itkwidgets ipywidgets"
      ]
    },
    {
      "cell_type": "markdown",
      "metadata": {
        "id": "4NMO3FQPlcF9"
      },
      "source": [
        "### Import packages\n",
        "For this lab, you'll import some of the packages you've seen before (`numpy`, `matplotlib` and `seaborn`) as well as some new ones for reading (`nibabel`) and visualizing (`itk`, `itkwidgets`, `ipywidgets`) the data. Run the next cell to import these packages."
      ]
    },
    {
      "cell_type": "code",
      "execution_count": 3,
      "metadata": {
        "colab": {
          "base_uri": "https://localhost:8080/"
        },
        "id": "E27KmIVSe4bS",
        "outputId": "0b950af9-9661-47d9-ea40-65ae7304db0a"
      },
      "outputs": [
        {
          "output_type": "stream",
          "name": "stdout",
          "text": [
            "Requirement already satisfied: ipywidgets in /usr/local/lib/python3.12/dist-packages (7.7.1)\n",
            "Requirement already satisfied: ipykernel>=4.5.1 in /usr/local/lib/python3.12/dist-packages (from ipywidgets) (6.17.1)\n",
            "Requirement already satisfied: ipython-genutils~=0.2.0 in /usr/local/lib/python3.12/dist-packages (from ipywidgets) (0.2.0)\n",
            "Requirement already satisfied: traitlets>=4.3.1 in /usr/local/lib/python3.12/dist-packages (from ipywidgets) (5.6.0)\n",
            "Requirement already satisfied: widgetsnbextension~=3.6.0 in /usr/local/lib/python3.12/dist-packages (from ipywidgets) (3.6.10)\n",
            "Requirement already satisfied: ipython>=4.0.0 in /usr/local/lib/python3.12/dist-packages (from ipywidgets) (7.34.0)\n",
            "Requirement already satisfied: jupyterlab-widgets>=1.0.0 in /usr/local/lib/python3.12/dist-packages (from ipywidgets) (3.0.15)\n",
            "Requirement already satisfied: debugpy>=1.0 in /usr/local/lib/python3.12/dist-packages (from ipykernel>=4.5.1->ipywidgets) (1.8.15)\n",
            "Requirement already satisfied: jupyter-client>=6.1.12 in /usr/local/lib/python3.12/dist-packages (from ipykernel>=4.5.1->ipywidgets) (7.4.9)\n",
            "Requirement already satisfied: matplotlib-inline>=0.1 in /usr/local/lib/python3.12/dist-packages (from ipykernel>=4.5.1->ipywidgets) (0.2.1)\n",
            "Requirement already satisfied: nest-asyncio in /usr/local/lib/python3.12/dist-packages (from ipykernel>=4.5.1->ipywidgets) (1.6.0)\n",
            "Requirement already satisfied: packaging in /usr/local/lib/python3.12/dist-packages (from ipykernel>=4.5.1->ipywidgets) (25.0)\n",
            "Requirement already satisfied: psutil in /usr/local/lib/python3.12/dist-packages (from ipykernel>=4.5.1->ipywidgets) (5.9.5)\n",
            "Requirement already satisfied: pyzmq>=17 in /usr/local/lib/python3.12/dist-packages (from ipykernel>=4.5.1->ipywidgets) (26.2.1)\n",
            "Requirement already satisfied: tornado>=6.1 in /usr/local/lib/python3.12/dist-packages (from ipykernel>=4.5.1->ipywidgets) (6.5.1)\n",
            "Requirement already satisfied: setuptools>=18.5 in /usr/local/lib/python3.12/dist-packages (from ipython>=4.0.0->ipywidgets) (75.2.0)\n",
            "Requirement already satisfied: jedi>=0.16 in /usr/local/lib/python3.12/dist-packages (from ipython>=4.0.0->ipywidgets) (0.19.2)\n",
            "Requirement already satisfied: decorator in /usr/local/lib/python3.12/dist-packages (from ipython>=4.0.0->ipywidgets) (4.4.2)\n",
            "Requirement already satisfied: pickleshare in /usr/local/lib/python3.12/dist-packages (from ipython>=4.0.0->ipywidgets) (0.7.5)\n",
            "Requirement already satisfied: prompt-toolkit!=3.0.0,!=3.0.1,<3.1.0,>=2.0.0 in /usr/local/lib/python3.12/dist-packages (from ipython>=4.0.0->ipywidgets) (3.0.52)\n",
            "Requirement already satisfied: pygments in /usr/local/lib/python3.12/dist-packages (from ipython>=4.0.0->ipywidgets) (2.19.2)\n",
            "Requirement already satisfied: backcall in /usr/local/lib/python3.12/dist-packages (from ipython>=4.0.0->ipywidgets) (0.2.0)\n",
            "Requirement already satisfied: pexpect>4.3 in /usr/local/lib/python3.12/dist-packages (from ipython>=4.0.0->ipywidgets) (4.9.0)\n",
            "Requirement already satisfied: notebook>=4.4.1 in /usr/local/lib/python3.12/dist-packages (from widgetsnbextension~=3.6.0->ipywidgets) (6.4.13)\n",
            "Requirement already satisfied: parso<0.9.0,>=0.8.4 in /usr/local/lib/python3.12/dist-packages (from jedi>=0.16->ipython>=4.0.0->ipywidgets) (0.8.5)\n",
            "Requirement already satisfied: entrypoints in /usr/local/lib/python3.12/dist-packages (from jupyter-client>=6.1.12->ipykernel>=4.5.1->ipywidgets) (0.4)\n",
            "Requirement already satisfied: jupyter-core>=4.9.2 in /usr/local/lib/python3.12/dist-packages (from jupyter-client>=6.1.12->ipykernel>=4.5.1->ipywidgets) (5.9.1)\n",
            "Requirement already satisfied: python-dateutil>=2.8.2 in /usr/local/lib/python3.12/dist-packages (from jupyter-client>=6.1.12->ipykernel>=4.5.1->ipywidgets) (2.9.0.post0)\n",
            "Requirement already satisfied: jinja2 in /usr/local/lib/python3.12/dist-packages (from notebook>=4.4.1->widgetsnbextension~=3.6.0->ipywidgets) (3.1.6)\n",
            "Requirement already satisfied: argon2-cffi in /usr/local/lib/python3.12/dist-packages (from notebook>=4.4.1->widgetsnbextension~=3.6.0->ipywidgets) (25.1.0)\n",
            "Requirement already satisfied: nbformat in /usr/local/lib/python3.12/dist-packages (from notebook>=4.4.1->widgetsnbextension~=3.6.0->ipywidgets) (5.10.4)\n",
            "Requirement already satisfied: nbconvert>=5 in /usr/local/lib/python3.12/dist-packages (from notebook>=4.4.1->widgetsnbextension~=3.6.0->ipywidgets) (7.16.6)\n",
            "Requirement already satisfied: Send2Trash>=1.8.0 in /usr/local/lib/python3.12/dist-packages (from notebook>=4.4.1->widgetsnbextension~=3.6.0->ipywidgets) (1.8.3)\n",
            "Requirement already satisfied: terminado>=0.8.3 in /usr/local/lib/python3.12/dist-packages (from notebook>=4.4.1->widgetsnbextension~=3.6.0->ipywidgets) (0.18.1)\n",
            "Requirement already satisfied: prometheus-client in /usr/local/lib/python3.12/dist-packages (from notebook>=4.4.1->widgetsnbextension~=3.6.0->ipywidgets) (0.23.1)\n",
            "Requirement already satisfied: ptyprocess>=0.5 in /usr/local/lib/python3.12/dist-packages (from pexpect>4.3->ipython>=4.0.0->ipywidgets) (0.7.0)\n",
            "Requirement already satisfied: wcwidth in /usr/local/lib/python3.12/dist-packages (from prompt-toolkit!=3.0.0,!=3.0.1,<3.1.0,>=2.0.0->ipython>=4.0.0->ipywidgets) (0.2.14)\n",
            "Requirement already satisfied: platformdirs>=2.5 in /usr/local/lib/python3.12/dist-packages (from jupyter-core>=4.9.2->jupyter-client>=6.1.12->ipykernel>=4.5.1->ipywidgets) (4.5.0)\n",
            "Requirement already satisfied: beautifulsoup4 in /usr/local/lib/python3.12/dist-packages (from nbconvert>=5->notebook>=4.4.1->widgetsnbextension~=3.6.0->ipywidgets) (4.13.5)\n",
            "Requirement already satisfied: bleach!=5.0.0 in /usr/local/lib/python3.12/dist-packages (from bleach[css]!=5.0.0->nbconvert>=5->notebook>=4.4.1->widgetsnbextension~=3.6.0->ipywidgets) (6.3.0)\n",
            "Requirement already satisfied: defusedxml in /usr/local/lib/python3.12/dist-packages (from nbconvert>=5->notebook>=4.4.1->widgetsnbextension~=3.6.0->ipywidgets) (0.7.1)\n",
            "Requirement already satisfied: jupyterlab-pygments in /usr/local/lib/python3.12/dist-packages (from nbconvert>=5->notebook>=4.4.1->widgetsnbextension~=3.6.0->ipywidgets) (0.3.0)\n",
            "Requirement already satisfied: markupsafe>=2.0 in /usr/local/lib/python3.12/dist-packages (from nbconvert>=5->notebook>=4.4.1->widgetsnbextension~=3.6.0->ipywidgets) (3.0.3)\n",
            "Requirement already satisfied: mistune<4,>=2.0.3 in /usr/local/lib/python3.12/dist-packages (from nbconvert>=5->notebook>=4.4.1->widgetsnbextension~=3.6.0->ipywidgets) (3.1.4)\n",
            "Requirement already satisfied: nbclient>=0.5.0 in /usr/local/lib/python3.12/dist-packages (from nbconvert>=5->notebook>=4.4.1->widgetsnbextension~=3.6.0->ipywidgets) (0.10.2)\n",
            "Requirement already satisfied: pandocfilters>=1.4.1 in /usr/local/lib/python3.12/dist-packages (from nbconvert>=5->notebook>=4.4.1->widgetsnbextension~=3.6.0->ipywidgets) (1.5.1)\n",
            "Requirement already satisfied: fastjsonschema>=2.15 in /usr/local/lib/python3.12/dist-packages (from nbformat->notebook>=4.4.1->widgetsnbextension~=3.6.0->ipywidgets) (2.21.2)\n",
            "Requirement already satisfied: jsonschema>=2.6 in /usr/local/lib/python3.12/dist-packages (from nbformat->notebook>=4.4.1->widgetsnbextension~=3.6.0->ipywidgets) (4.25.1)\n",
            "Requirement already satisfied: six>=1.5 in /usr/local/lib/python3.12/dist-packages (from python-dateutil>=2.8.2->jupyter-client>=6.1.12->ipykernel>=4.5.1->ipywidgets) (1.17.0)\n",
            "Requirement already satisfied: argon2-cffi-bindings in /usr/local/lib/python3.12/dist-packages (from argon2-cffi->notebook>=4.4.1->widgetsnbextension~=3.6.0->ipywidgets) (25.1.0)\n",
            "Requirement already satisfied: webencodings in /usr/local/lib/python3.12/dist-packages (from bleach!=5.0.0->bleach[css]!=5.0.0->nbconvert>=5->notebook>=4.4.1->widgetsnbextension~=3.6.0->ipywidgets) (0.5.1)\n",
            "Requirement already satisfied: tinycss2<1.5,>=1.1.0 in /usr/local/lib/python3.12/dist-packages (from bleach[css]!=5.0.0->nbconvert>=5->notebook>=4.4.1->widgetsnbextension~=3.6.0->ipywidgets) (1.4.0)\n",
            "Requirement already satisfied: attrs>=22.2.0 in /usr/local/lib/python3.12/dist-packages (from jsonschema>=2.6->nbformat->notebook>=4.4.1->widgetsnbextension~=3.6.0->ipywidgets) (25.4.0)\n",
            "Requirement already satisfied: jsonschema-specifications>=2023.03.6 in /usr/local/lib/python3.12/dist-packages (from jsonschema>=2.6->nbformat->notebook>=4.4.1->widgetsnbextension~=3.6.0->ipywidgets) (2025.9.1)\n",
            "Requirement already satisfied: referencing>=0.28.4 in /usr/local/lib/python3.12/dist-packages (from jsonschema>=2.6->nbformat->notebook>=4.4.1->widgetsnbextension~=3.6.0->ipywidgets) (0.37.0)\n",
            "Requirement already satisfied: rpds-py>=0.7.1 in /usr/local/lib/python3.12/dist-packages (from jsonschema>=2.6->nbformat->notebook>=4.4.1->widgetsnbextension~=3.6.0->ipywidgets) (0.28.0)\n",
            "Requirement already satisfied: cffi>=1.0.1 in /usr/local/lib/python3.12/dist-packages (from argon2-cffi-bindings->argon2-cffi->notebook>=4.4.1->widgetsnbextension~=3.6.0->ipywidgets) (2.0.0)\n",
            "Requirement already satisfied: soupsieve>1.2 in /usr/local/lib/python3.12/dist-packages (from beautifulsoup4->nbconvert>=5->notebook>=4.4.1->widgetsnbextension~=3.6.0->ipywidgets) (2.8)\n",
            "Requirement already satisfied: typing-extensions>=4.0.0 in /usr/local/lib/python3.12/dist-packages (from beautifulsoup4->nbconvert>=5->notebook>=4.4.1->widgetsnbextension~=3.6.0->ipywidgets) (4.15.0)\n",
            "Requirement already satisfied: pycparser in /usr/local/lib/python3.12/dist-packages (from cffi>=1.0.1->argon2-cffi-bindings->argon2-cffi->notebook>=4.4.1->widgetsnbextension~=3.6.0->ipywidgets) (2.23)\n"
          ]
        }
      ],
      "source": [
        "!pip install ipywidgets"
      ]
    },
    {
      "cell_type": "code",
      "execution_count": 4,
      "metadata": {
        "id": "CwInbbMElcGA"
      },
      "outputs": [],
      "source": [
        "# Import all the necessary packages\n",
        "import numpy as np\n",
        "import nibabel as nib\n",
        "import itk\n",
        "import itkwidgets\n",
        "from ipywidgets import interact, interactive, IntSlider, ToggleButtons\n",
        "import matplotlib.pyplot as plt\n",
        "%matplotlib inline\n",
        "import seaborn as sns\n",
        "sns.set_style('darkgrid')"
      ]
    },
    {
      "cell_type": "markdown",
      "source": [],
      "metadata": {
        "id": "SqzjhQepSvuk"
      }
    },
    {
      "cell_type": "markdown",
      "metadata": {
        "id": "H90jhoj9lcGO"
      },
      "source": [
        "### Loading Images of the brain\n",
        "Run the next cell to grab a single 3D MRI brain scan"
      ]
    },
    {
      "cell_type": "code",
      "execution_count": 5,
      "metadata": {
        "colab": {
          "base_uri": "https://localhost:8080/"
        },
        "id": "IrdHZwdglcGR",
        "outputId": "0ff8be25-1e51-4568-9cdd-844545992fc7"
      },
      "outputs": [
        {
          "output_type": "stream",
          "name": "stdout",
          "text": [
            "Type of the image <class 'nibabel.nifti1.Nifti1Image'>\n"
          ]
        }
      ],
      "source": [
        "# Define the image path and load the data\n",
        "image_path = \"BraTS-Data/imagesTr/BRATS_001.nii.gz\"\n",
        "image_obj = nib.load(image_path)\n",
        "print(f'Type of the image {type(image_obj)}')\n"
      ]
    },
    {
      "cell_type": "markdown",
      "metadata": {
        "id": "IpbUhJGjlcGf"
      },
      "source": [
        "### Extract the data as a numpy array\n",
        "Run the next cell to extract the data using the `get_fdata()` method of the image object"
      ]
    },
    {
      "cell_type": "code",
      "execution_count": 6,
      "metadata": {
        "colab": {
          "base_uri": "https://localhost:8080/"
        },
        "id": "BHFDLDRHlcGh",
        "outputId": "0cb5d921-11fa-4efd-f8fb-d596dcd21a84"
      },
      "outputs": [
        {
          "output_type": "execute_result",
          "data": {
            "text/plain": [
              "numpy.ndarray"
            ]
          },
          "metadata": {},
          "execution_count": 6
        }
      ],
      "source": [
        "# Extract data as numpy ndarray\n",
        "image_data = image_obj.get_fdata()\n",
        "type(image_data)"
      ]
    },
    {
      "cell_type": "code",
      "execution_count": 7,
      "metadata": {
        "colab": {
          "base_uri": "https://localhost:8080/"
        },
        "id": "hX5bfNinlcGs",
        "outputId": "8ac2cb7d-f88b-4f05-e034-480a0b8aaf24"
      },
      "outputs": [
        {
          "output_type": "stream",
          "name": "stdout",
          "text": [
            "The image object has the following dimensions: height: 240, width:240, depth:155, channels:4\n"
          ]
        }
      ],
      "source": [
        "# Get the image shape and print it out\n",
        "height, width, depth, channels = image_data.shape\n",
        "print(f\"The image object has the following dimensions: height: {height}, width:{width}, depth:{depth}, channels:{channels}\")"
      ]
    },
    {
      "cell_type": "markdown",
      "metadata": {
        "id": "c1bzQw1qlcG8"
      },
      "source": [
        "As you can see these \"image objects\" are actually 4 dimensional! With the exploratory steps below you'll get a better sense of exactly what each of these dimensions represents.\n",
        "\n",
        "### Visualize the data\n",
        "The \"depth\" listed above indicates that there are 155 layers (slices through the brain) in every image object. To visualize a single layer, run the cell below. Note that if the layer is one of the first or the last (`i` near 0 or 154), you won't find much information and the screen will be dark. Run this cell multiple times to look at different layers.\n",
        "\n",
        "The code is set up to grab a random layer but you can select a specific layer by choosing a value for `i` from 0 to 154. You can also change which channel you're looking at by changing the `channel` variable.\n",
        "\n",
        "Keep in mind that you could just as easily look at slices of this image object along the height or width dimensions. If you wish to do so, just shift `i` to a different dimension in the `plt.imshow()` command below. Which slice direction looks the most interesting to you?"
      ]
    },
    {
      "cell_type": "code",
      "execution_count": 8,
      "metadata": {
        "colab": {
          "base_uri": "https://localhost:8080/",
          "height": 424
        },
        "id": "h5d8HuPdlcG-",
        "outputId": "5d981a59-85f9-4b8a-d233-c05e03721230"
      },
      "outputs": [
        {
          "output_type": "stream",
          "name": "stdout",
          "text": [
            "Plotting Layer 58 Channel 0 of Image\n"
          ]
        },
        {
          "output_type": "display_data",
          "data": {
            "text/plain": [
              "<Figure size 640x480 with 1 Axes>"
            ],
            "image/png": "[encoded data removed]"
          },
          "metadata": {}
        }
      ],
      "source": [
        "# Select random layer number\n",
        "maxval = 154\n",
        "i = np.random.randint(0, maxval)\n",
        "# Define a channel to look at\n",
        "channel = 0\n",
        "print(f\"Plotting Layer {i} Channel {channel} of Image\")\n",
        "plt.imshow(image_data[:, :, i, channel], cmap='gray')\n",
        "plt.axis('off');"
      ]
    },
    {
      "cell_type": "markdown",
      "metadata": {
        "id": "LX8Jl1_1lcHR"
      },
      "source": [
        "### Interactive exploration\n",
        "Another way to visualize this dataset is by using IPython Widgets to allow for an interactive exploration of the data.\n",
        "\n",
        "Run the next cell to explore across different layers of the data. Move the slider to explore different layers. Change the `channel` value to explore different channels. See if you can tell which layer corresponds to the top of the brain and which corresponds to the bottom!\n",
        "\n",
        "If you're feeling ambitious, try modifying the code below to slice along a different axis through the image object and look at other channels to see what you can discover!"
      ]
    },
    {
      "cell_type": "code",
      "execution_count": 9,
      "metadata": {
        "colab": {
          "base_uri": "https://localhost:8080/",
          "height": 502,
          "referenced_widgets": [
            "495e8af920074b808fc7f971af333c5c",
            "e225fefe7a424a138647f8f2b4410aca",
            "5ca9e36500fa470e857502df3cda3586",
            "cd49724a481b48ea916d5fc104acabf6",
            "c77ece97bda5496e91a9baffd7314ebd",
            "4b000fc80bfa42a090f02e745bcb81f3",
            "b4011fbc420c48ae84550efd5c8c6bf3"
          ]
        },
        "id": "nLgMNEFolcHr",
        "outputId": "2a42098c-42fa-414e-eabd-c355a48ec806"
      },
      "outputs": [
        {
          "output_type": "display_data",
          "data": {
            "text/plain": [
              "interactive(children=(IntSlider(value=77, description='layer', max=154), Output()), _dom_classes=('widget-inte…"
            ],
            "application/vnd.jupyter.widget-view+json": {
              "version_major": 2,
              "version_minor": 0,
              "model_id": "495e8af920074b808fc7f971af333c5c"
            }
          },
          "metadata": {}
        }
      ],
      "source": [
        "# Define a function to visualize the data\n",
        "def explore_3dimage(layer):\n",
        "    plt.figure(figsize=(10, 5))\n",
        "    channel = 2\n",
        "    plt.imshow(image_data[:, :, layer, channel], cmap='gray');\n",
        "    plt.title('Explore Layers of Brain MRI', fontsize=20)\n",
        "    plt.axis('off')\n",
        "    return layer\n",
        "\n",
        "# Run the ipywidgets interact() function to explore the data\n",
        "interact(explore_3dimage, layer=(0, image_data.shape[2] - 1));"
      ]
    },
    {
      "cell_type": "markdown",
      "metadata": {
        "id": "XlsfgFAAlcH4"
      },
      "source": [
        "### Explore the data labels\n",
        "In this section, you'll read in a new dataset containing the labels for the MRI scan you loaded above.\n",
        "\n",
        "Run the cell below to load the labels dataset for the image object you inspected above."
      ]
    },
    {
      "cell_type": "code",
      "execution_count": 10,
      "metadata": {
        "colab": {
          "base_uri": "https://localhost:8080/",
          "height": 121
        },
        "id": "8LEK4G6llcH6",
        "outputId": "7b0e807f-d2f9-4aa9-d30c-64c2214abb38"
      },
      "outputs": [
        {
          "output_type": "execute_result",
          "data": {
            "text/plain": [
              "nibabel.nifti1.Nifti1Image"
            ],
            "text/html": [
              "<div style=\"max-width:800px; border: 1px solid var(--colab-border-color);\"><style>\n",
              "      pre.function-repr-contents {\n",
              "        overflow-x: auto;\n",
              "        padding: 8px 12px;\n",
              "        max-height: 500px;\n",
              "      }\n",
              "\n",
              "      pre.function-repr-contents.function-repr-contents-collapsed {\n",
              "        cursor: pointer;\n",
              "        max-height: 100px;\n",
              "      }\n",
              "    </style>\n",
              "    <pre style=\"white-space: initial; background:\n",
              "         var(--colab-secondary-surface-color); padding: 8px 12px;\n",
              "         border-bottom: 1px solid var(--colab-border-color);\"><b>nibabel.nifti1.Nifti1Image</b><br/>def __init__(dataobj, affine, header=None, extra=None, file_map=None, dtype=None)</pre><pre class=\"function-repr-contents function-repr-contents-collapsed\" style=\"\"><a class=\"filepath\" style=\"display:none\" href=\"#\">/usr/local/lib/python3.12/dist-packages/nibabel/nifti1.py</a>Class for single file NIfTI1 format image</pre>\n",
              "      <script>\n",
              "      if (google.colab.kernel.accessAllowed && google.colab.files && google.colab.files.view) {\n",
              "        for (const element of document.querySelectorAll('.filepath')) {\n",
              "          element.style.display = 'block'\n",
              "          element.onclick = (event) => {\n",
              "            event.preventDefault();\n",
              "            event.stopPropagation();\n",
              "            google.colab.files.view(element.textContent, 2413);\n",
              "          };\n",
              "        }\n",
              "      }\n",
              "      for (const element of document.querySelectorAll('.function-repr-contents')) {\n",
              "        element.onclick = (event) => {\n",
              "          event.preventDefault();\n",
              "          event.stopPropagation();\n",
              "          element.classList.toggle('function-repr-contents-collapsed');\n",
              "        };\n",
              "      }\n",
              "      </script>\n",
              "      </div>"
            ]
          },
          "metadata": {},
          "execution_count": 10
        }
      ],
      "source": [
        "# Define the data path and load the data\n",
        "label_path = \"./BraTS-Data/labelsTr/BRATS_001.nii.gz\"\n",
        "label_obj = nib.load(label_path)\n",
        "type(label_obj)"
      ]
    },
    {
      "cell_type": "markdown",
      "metadata": {
        "id": "i75fPF1RlcIE"
      },
      "source": [
        "### Extract the data as a numpy array\n",
        "Run the next cell to extract the data labels using the `get_fdata()` method of the image object"
      ]
    },
    {
      "cell_type": "code",
      "execution_count": 11,
      "metadata": {
        "colab": {
          "base_uri": "https://localhost:8080/"
        },
        "id": "7x8UKlBilcIG",
        "outputId": "dc0d051c-d24f-464e-c874-97b2ff51407d"
      },
      "outputs": [
        {
          "output_type": "execute_result",
          "data": {
            "text/plain": [
              "numpy.ndarray"
            ]
          },
          "metadata": {},
          "execution_count": 11
        }
      ],
      "source": [
        "# Extract data labels\n",
        "label_array = label_obj.get_fdata()\n",
        "type(label_array)"
      ]
    },
    {
      "cell_type": "code",
      "execution_count": 12,
      "metadata": {
        "colab": {
          "base_uri": "https://localhost:8080/"
        },
        "id": "fD5I9BD7lcIQ",
        "outputId": "a3d4fd06-a56e-44ec-a3a7-ccb96150efd4"
      },
      "outputs": [
        {
          "output_type": "stream",
          "name": "stdout",
          "text": [
            "Dimensions of labels data array height: 240, width: 240, depth: 155\n",
            "With the unique values: [0. 1. 2. 3.]\n",
            "Corresponding to the following label categories:\n",
            "0: for normal\n",
            "1: for edema(swelling around the tumor)\n",
            "2: for non-enhancing tumor\n",
            "3: for enhancing tumor\n"
          ]
        }
      ],
      "source": [
        "# Extract and print out the shape of the labels data\n",
        "height, width, depth = label_array.shape\n",
        "print(f\"Dimensions of labels data array height: {height}, width: {width}, depth: {depth}\")\n",
        "print(f'With the unique values: {np.unique(label_array)}')\n",
        "print(\"\"\"Corresponding to the following label categories:\n",
        "0: for normal\n",
        "1: for edema(swelling around the tumor)\n",
        "2: for non-enhancing tumor\n",
        "3: for enhancing tumor\"\"\")\n"
      ]
    },
    {
      "cell_type": "markdown",
      "metadata": {
        "id": "GfDbTzWqlcIZ"
      },
      "source": [
        "### Visualize the labels for a specific layer\n",
        "Run the next cell to visualize a single layer of the labeled data. The code below is set up to show a single layer and you can set `i` to any value from 0 to 154 to look at a different layer.\n",
        "\n",
        "Note that if you choose a layer near 0 or 154 there might not be much to look at in the images."
      ]
    },
    {
      "cell_type": "code",
      "execution_count": 13,
      "metadata": {
        "colab": {
          "base_uri": "https://localhost:8080/",
          "height": 414
        },
        "id": "L6n3cCrdlcIb",
        "outputId": "51768ae0-6a2b-4734-d177-103f68a23665"
      },
      "outputs": [
        {
          "output_type": "display_data",
          "data": {
            "text/plain": [
              "<Figure size 5000x3000 with 4 Axes>"
            ],
            "image/png": "[encoded data removed]"
          },
          "metadata": {}
        }
      ],
      "source": [
        "# Define a single layer for plotting\n",
        "layer = 45\n",
        "# Define a dictionary of class labels\n",
        "classes_dict = {\n",
        "    'Normal': 0.,\n",
        "    'Edema': 1.,\n",
        "    'Non-enhancing tumor': 2.,\n",
        "    'Enhancing tumor': 3.\n",
        "}\n",
        "# Set up for plotting\n",
        "fig, ax = plt.subplots(nrows=1, ncols=4, figsize=(50, 30))\n",
        "for i in range(4):\n",
        "    img_label_str = list(classes_dict.keys())[i]\n",
        "    img = label_array[:,:,layer]\n",
        "    mask = np.where(img == classes_dict[img_label_str], 255, 0)\n",
        "    ax[i].imshow(mask)\n",
        "    ax[i].set_title(f\"Layer {layer} for {img_label_str}\", fontsize=45)\n",
        "    ax[i].axis('off')\n",
        "plt.tight_layout()"
      ]
    },
    {
      "cell_type": "markdown",
      "metadata": {
        "id": "KOot6HhwlcIt"
      },
      "source": [
        "### Interactive visualization across layers\n",
        "As another way of looking at the data, run the code below to create a visualization where you can choose the class you want to look at by clicking a button to choose a particular label and scrolling across layers using the slider!"
      ]
    },
    {
      "cell_type": "code",
      "execution_count": 14,
      "metadata": {
        "colab": {
          "base_uri": "https://localhost:8080/",
          "referenced_widgets": [
            "5afb4fcde1df4f798d9b9a7effb21528",
            "b39af9efa60b4d9c8cdc32b101feb48b",
            "c86b647e7fb04f35a38246db41e637a9",
            "4bce0c02c9414374a876b95c2ecc1316",
            "753057cb53134d9c8522a0b7355df9ab",
            "2a62581de4334009a3c0abb6b0f87ee4",
            "58c520a0ba1c498abf76db4a9e6036c9",
            "188092b9b18e4fc8b28391595ca319ae",
            "0a46f359a8b3440eb8861316dcd8928f",
            "cde28428d322493b98ed132f8dd0b7c0"
          ],
          "height": 505
        },
        "id": "qYcEYhwNlcIw",
        "outputId": "d8ff3952-ce49-4b59-9d38-88b49c8584d3"
      },
      "outputs": [
        {
          "output_type": "display_data",
          "data": {
            "text/plain": [
              "interactive(children=(ToggleButtons(button_style='info', description='Select Class:', options=('Normal', 'Edem…"
            ],
            "application/vnd.jupyter.widget-view+json": {
              "version_major": 2,
              "version_minor": 0,
              "model_id": "5afb4fcde1df4f798d9b9a7effb21528"
            }
          },
          "metadata": {}
        }
      ],
      "source": [
        "# Create button values\n",
        "select_class = ToggleButtons(\n",
        "    options=['Normal','Edema', 'Non-enhancing tumor', 'Enhancing tumor'],\n",
        "    description='Select Class:',\n",
        "    disabled=False,\n",
        "    button_style='info',\n",
        "\n",
        ")\n",
        "# Create layer slider\n",
        "select_layer = IntSlider(min=0, max=154, description='Select Layer', continuous_update=False)\n",
        "\n",
        "# Define a function for plotting images\n",
        "def plot_image(seg_class, layer):\n",
        "    print(f\"Plotting {layer} Layer Label: {seg_class}\")\n",
        "    img_label = classes_dict[seg_class]\n",
        "    mask = np.where(label_array[:,:,layer] == img_label, 255, 0)\n",
        "    plt.figure(figsize=(10,5))\n",
        "    plt.imshow(mask, cmap='gray')\n",
        "    plt.axis('off');\n",
        "\n",
        "# Use the interactive() tool to create the visualization\n",
        "interactive(plot_image, seg_class=select_class, layer=select_layer)"
      ]
    }
  ],
  "metadata": {
    "colab": {
      "provenance": []
    },
    "kernelspec": {
      "display_name": "Python 3",
      "language": "python",
      "name": "python3"
    },
    "language_info": {
      "codemirror_mode": {
        "name": "ipython",
        "version": 3
      },
      "file_extension": ".py",
      "mimetype": "text/x-python",
      "name": "python",
      "nbconvert_exporter": "python",
      "pygments_lexer": "ipython3",
      "version": "3.6.3"
    },
    "widgets": {
      "application/vnd.jupyter.widget-state+json": {
        "495e8af920074b808fc7f971af333c5c": {
          "model_module": "@jupyter-widgets/controls",
          "model_name": "VBoxModel",
          "model_module_version": "1.5.0",
          "state": {
            "_dom_classes": [
              "widget-interact"
            ],
            "_model_module": "@jupyter-widgets/controls",
            "_model_module_version": "1.5.0",
            "_model_name": "VBoxModel",
            "_view_count": null,
            "_view_module": "@jupyter-widgets/controls",
            "_view_module_version": "1.5.0",
            "_view_name": "VBoxView",
            "box_style": "",
            "children": [
              "IPY_MODEL_e225fefe7a424a138647f8f2b4410aca",
              "IPY_MODEL_5ca9e36500fa470e857502df3cda3586"
            ],
            "layout": "IPY_MODEL_cd49724a481b48ea916d5fc104acabf6"
          }
        },
        "e225fefe7a424a138647f8f2b4410aca": {
          "model_module": "@jupyter-widgets/controls",
          "model_name": "IntSliderModel",
          "model_module_version": "1.5.0",
          "state": {
            "_dom_classes": [],
            "_model_module": "@jupyter-widgets/controls",
            "_model_module_version": "1.5.0",
            "_model_name": "IntSliderModel",
            "_view_count": null,
            "_view_module": "@jupyter-widgets/controls",
            "_view_module_version": "1.5.0",
            "_view_name": "IntSliderView",
            "continuous_update": true,
            "description": "layer",
            "description_tooltip": null,
            "disabled": false,
            "layout": "IPY_MODEL_c77ece97bda5496e91a9baffd7314ebd",
            "max": 154,
            "min": 0,
            "orientation": "horizontal",
            "readout": true,
            "readout_format": "d",
            "step": 1,
            "style": "IPY_MODEL_4b000fc80bfa42a090f02e745bcb81f3",
            "value": 77
          }
        },
        "5ca9e36500fa470e857502df3cda3586": {
          "model_module": "@jupyter-widgets/output",
          "model_name": "OutputModel",
          "model_module_version": "1.0.0",
          "state": {
            "_dom_classes": [],
            "_model_module": "@jupyter-widgets/output",
            "_model_module_version": "1.0.0",
            "_model_name": "OutputModel",
            "_view_count": null,
            "_view_module": "@jupyter-widgets/output",
            "_view_module_version": "1.0.0",
            "_view_name": "OutputView",
            "layout": "IPY_MODEL_b4011fbc420c48ae84550efd5c8c6bf3",
            "msg_id": "",
            "outputs": [
              {
                "output_type": "display_data",
                "data": {
                  "text/plain": "<Figure size 1000x500 with 1 Axes>",
                  "image/png": "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\n"
                },
                "metadata": {}
              },
              {
                "output_type": "display_data",
                "data": {
                  "text/plain": "77"
                },
                "metadata": {}
              }
            ]
          }
        },
        "cd49724a481b48ea916d5fc104acabf6": {
          "model_module": "@jupyter-widgets/base",
          "model_name": "LayoutModel",
          "model_module_version": "1.2.0",
          "state": {
            "_model_module": "@jupyter-widgets/base",
            "_model_module_version": "1.2.0",
            "_model_name": "LayoutModel",
            "_view_count": null,
            "_view_module": "@jupyter-widgets/base",
            "_view_module_version": "1.2.0",
            "_view_name": "LayoutView",
            "align_content": null,
            "align_items": null,
            "align_self": null,
            "border": null,
            "bottom": null,
            "display": null,
            "flex": null,
            "flex_flow": null,
            "grid_area": null,
            "grid_auto_columns": null,
            "grid_auto_flow": null,
            "grid_auto_rows": null,
            "grid_column": null,
            "grid_gap": null,
            "grid_row": null,
            "grid_template_areas": null,
            "grid_template_columns": null,
            "grid_template_rows": null,
            "height": null,
            "justify_content": null,
            "justify_items": null,
            "left": null,
            "margin": null,
            "max_height": null,
            "max_width": null,
            "min_height": null,
            "min_width": null,
            "object_fit": null,
            "object_position": null,
            "order": null,
            "overflow": null,
            "overflow_x": null,
            "overflow_y": null,
            "padding": null,
            "right": null,
            "top": null,
            "visibility": null,
            "width": null
          }
        },
        "c77ece97bda5496e91a9baffd7314ebd": {
          "model_module": "@jupyter-widgets/base",
          "model_name": "LayoutModel",
          "model_module_version": "1.2.0",
          "state": {
            "_model_module": "@jupyter-widgets/base",
            "_model_module_version": "1.2.0",
            "_model_name": "LayoutModel",
            "_view_count": null,
            "_view_module": "@jupyter-widgets/base",
            "_view_module_version": "1.2.0",
            "_view_name": "LayoutView",
            "align_content": null,
            "align_items": null,
            "align_self": null,
            "border": null,
            "bottom": null,
            "display": null,
            "flex": null,
            "flex_flow": null,
            "grid_area": null,
            "grid_auto_columns": null,
            "grid_auto_flow": null,
            "grid_auto_rows": null,
            "grid_column": null,
            "grid_gap": null,
            "grid_row": null,
            "grid_template_areas": null,
            "grid_template_columns": null,
            "grid_template_rows": null,
            "height": null,
            "justify_content": null,
            "justify_items": null,
            "left": null,
            "margin": null,
            "max_height": null,
            "max_width": null,
            "min_height": null,
            "min_width": null,
            "object_fit": null,
            "object_position": null,
            "order": null,
            "overflow": null,
            "overflow_x": null,
            "overflow_y": null,
            "padding": null,
            "right": null,
            "top": null,
            "visibility": null,
            "width": null
          }
        },
        "4b000fc80bfa42a090f02e745bcb81f3": {
          "model_module": "@jupyter-widgets/controls",
          "model_name": "SliderStyleModel",
          "model_module_version": "1.5.0",
          "state": {
            "_model_module": "@jupyter-widgets/controls",
            "_model_module_version": "1.5.0",
            "_model_name": "SliderStyleModel",
            "_view_count": null,
            "_view_module": "@jupyter-widgets/base",
            "_view_module_version": "1.2.0",
            "_view_name": "StyleView",
            "description_width": "",
            "handle_color": null
          }
        },
        "b4011fbc420c48ae84550efd5c8c6bf3": {
          "model_module": "@jupyter-widgets/base",
          "model_name": "LayoutModel",
          "model_module_version": "1.2.0",
          "state": {
            "_model_module": "@jupyter-widgets/base",
            "_model_module_version": "1.2.0",
            "_model_name": "LayoutModel",
            "_view_count": null,
            "_view_module": "@jupyter-widgets/base",
            "_view_module_version": "1.2.0",
            "_view_name": "LayoutView",
            "align_content": null,
            "align_items": null,
            "align_self": null,
            "border": null,
            "bottom": null,
            "display": null,
            "flex": null,
            "flex_flow": null,
            "grid_area": null,
            "grid_auto_columns": null,
            "grid_auto_flow": null,
            "grid_auto_rows": null,
            "grid_column": null,
            "grid_gap": null,
            "grid_row": null,
            "grid_template_areas": null,
            "grid_template_columns": null,
            "grid_template_rows": null,
            "height": null,
            "justify_content": null,
            "justify_items": null,
            "left": null,
            "margin": null,
            "max_height": null,
            "max_width": null,
            "min_height": null,
            "min_width": null,
            "object_fit": null,
            "object_position": null,
            "order": null,
            "overflow": null,
            "overflow_x": null,
            "overflow_y": null,
            "padding": null,
            "right": null,
            "top": null,
            "visibility": null,
            "width": null
          }
        },
        "5afb4fcde1df4f798d9b9a7effb21528": {
          "model_module": "@jupyter-widgets/controls",
          "model_name": "VBoxModel",
          "model_module_version": "1.5.0",
          "state": {
            "_dom_classes": [
              "widget-interact"
            ],
            "_model_module": "@jupyter-widgets/controls",
            "_model_module_version": "1.5.0",
            "_model_name": "VBoxModel",
            "_view_count": null,
            "_view_module": "@jupyter-widgets/controls",
            "_view_module_version": "1.5.0",
            "_view_name": "VBoxView",
            "box_style": "",
            "children": [
              "IPY_MODEL_b39af9efa60b4d9c8cdc32b101feb48b",
              "IPY_MODEL_c86b647e7fb04f35a38246db41e637a9",
              "IPY_MODEL_4bce0c02c9414374a876b95c2ecc1316"
            ],
            "layout": "IPY_MODEL_753057cb53134d9c8522a0b7355df9ab"
          }
        },
        "b39af9efa60b4d9c8cdc32b101feb48b": {
          "model_module": "@jupyter-widgets/controls",
          "model_name": "ToggleButtonsModel",
          "model_module_version": "1.5.0",
          "state": {
            "_dom_classes": [],
            "_model_module": "@jupyter-widgets/controls",
            "_model_module_version": "1.5.0",
            "_model_name": "ToggleButtonsModel",
            "_options_labels": [
              "Normal",
              "Edema",
              "Non-enhancing tumor",
              "Enhancing tumor"
            ],
            "_view_count": null,
            "_view_module": "@jupyter-widgets/controls",
            "_view_module_version": "1.5.0",
            "_view_name": "ToggleButtonsView",
            "button_style": "info",
            "description": "Select Class:",
            "description_tooltip": null,
            "disabled": false,
            "icons": [],
            "index": 1,
            "layout": "IPY_MODEL_2a62581de4334009a3c0abb6b0f87ee4",
            "style": "IPY_MODEL_58c520a0ba1c498abf76db4a9e6036c9",
            "tooltips": []
          }
        },
        "c86b647e7fb04f35a38246db41e637a9": {
          "model_module": "@jupyter-widgets/controls",
          "model_name": "IntSliderModel",
          "model_module_version": "1.5.0",
          "state": {
            "_dom_classes": [],
            "_model_module": "@jupyter-widgets/controls",
            "_model_module_version": "1.5.0",
            "_model_name": "IntSliderModel",
            "_view_count": null,
            "_view_module": "@jupyter-widgets/controls",
            "_view_module_version": "1.5.0",
            "_view_name": "IntSliderView",
            "continuous_update": false,
            "description": "Select Layer",
            "description_tooltip": null,
            "disabled": false,
            "layout": "IPY_MODEL_188092b9b18e4fc8b28391595ca319ae",
            "max": 154,
            "min": 0,
            "orientation": "horizontal",
            "readout": true,
            "readout_format": "d",
            "step": 1,
            "style": "IPY_MODEL_0a46f359a8b3440eb8861316dcd8928f",
            "value": 72
          }
        },
        "4bce0c02c9414374a876b95c2ecc1316": {
          "model_module": "@jupyter-widgets/output",
          "model_name": "OutputModel",
          "model_module_version": "1.0.0",
          "state": {
            "_dom_classes": [],
            "_model_module": "@jupyter-widgets/output",
            "_model_module_version": "1.0.0",
            "_model_name": "OutputModel",
            "_view_count": null,
            "_view_module": "@jupyter-widgets/output",
            "_view_module_version": "1.0.0",
            "_view_name": "OutputView",
            "layout": "IPY_MODEL_cde28428d322493b98ed132f8dd0b7c0",
            "msg_id": "",
            "outputs": [
              {
                "output_type": "stream",
                "name": "stdout",
                "text": [
                  "Plotting 72 Layer Label: Edema\n"
                ]
              },
              {
                "output_type": "display_data",
                "data": {
                  "text/plain": "<Figure size 1000x500 with 1 Axes>",
                  "image/png": "iVBORw0KGgoAAAANSUhEUgAAAZUAAAGVCAYAAAA2W2w7AAAAOnRFWHRTb2Z0d2FyZQBNYXRwbG90bGliIHZlcnNpb24zLjEwLjAsIGh0dHBzOi8vbWF0cGxvdGxpYi5vcmcvlHJYcgAAAAlwSFlzAAAPYQAAD2EBqD+naQAAFclJREFUeJzt3X2QlXXZwPHr7AGWF1MWVEBBMNQcQFTkRQwNG2fWcYiIzDSbnJxRmzSdbMz+qAFtsvqjHJmxGXWyMhptdLJsUlMbpaQxzCJQdNoKrECRF1FAlmXZ+/nDx33YB5SzeO3e+/L5zPxm4D5v1y7LfPe+zzn3qRRFUQQAJKgrewAA+g5RASCNqACQRlQASCMqAKQRFQDSiAoAaUQFgDSiAkCaAbVesVKpdOUcAPRwtZyAxZ4KAGlEBYA0ogJAGlEBII2oAJBGVABIIyoApBEVANKICgBpRAWANKICQBpRASCNqACQRlQASCMqAKQRFQDSiAoAaUQFgDSiAkAaUQEgjagAkEZUAEgjKgCkERUA0ogKAGlEBYA0ogJAGlEBII2oAJBGVABIIyoApBEVANKICgBpRAWANKICQBpRASCNqACQRlQASCMqAKQRFQDSiAoAaUQFgDSiAkAaUQEgjagAkEZUAEgjKgCkERUA0ogKAGlEBYA0ogJAGlEBII2oAJBGVABIIyoApBEVANKICgBpRAWANKICQBpRASCNqACQRlQASCMqAKQRFQDSiAoAaUQFgDSiAkAaUQEgjagAkEZUAEgjKgCkERUA0ogKAGlEBYA0ogJAGlEBII2oAJBGVABIIyoApBEVANKICgBpRAWANKICQBpRASCNqACQRlQASCMqAKQRFQDSiAoAaUQFgDSiAkAaUQEgjagAkEZUAEgjKgCkERUA0ogKAGlEBYA0ogJAGlEBII2oAJBGVABIIyoApBEVANKICgBpRAWANKICQBpRASCNqACQRlQASCMqAKQRFQDSiAoAaUQFgDSiAkAaUQEgjagAkEZUAEgjKgCkERUA0ogKAGlEBYA0ogJAGlEBII2oAJBGVABIIyoApBEVANKICgBpRAWANKICQBpRASCNqACQRlQASCMqAKQRFQDSiAoAaUQFgDSiAkAaUQEgjagAkEZUAEgjKgCkERUA0ogKAGlEBYA0ogJAGlEBII2oAJBGVABIIyoApBEVANKICgBpRAWANKICQBpRASCNqACQRlQASCMqAKQRFQDSiAoAaUQFgDSiAkAaUQEgjagAkEZUAEgjKgCkERUA0ogKAGlEBYA0ogJAGlEBII2oAJBGVABIIyoApBEVANKICgBpRAWANKICQBpRASCNqACQRlQASCMqAKQRFQDSiAoAaUQFgDSiAkAaUQEgjagAkEZUAEgjKgCkERUA0ogKAGlEBYA0ogJAGlEBII2oAJBGVABIIyoApBEVANKICgBpRAWANKICQBpRASCNqACQZkDZA0BPUK1W49hjj41KpXLAy9va2mL9+vXR1tbWzZNB7yIqEBGjR4+O5cuXxxFHHHHAy1977bWYNWtWbNmypZsng95FVOh3qtVqXHbZZXHkkUe2bzviiCNi5MiRMWTIkAPeplKpxLXXXhvLly+Pxx57rLtGhV6nUhRFUdMV3+WwAPR0AwYMiLq6/3v6sL6+Pp555pmYNGlSp+/rrrvuimuuuabDttbWVofF6BdqyYWo0Ofddtttce6557b/va6uLiZOnBiDBw/u9H1t3bo11q9f32Hbt7/97bj33nvf95zQ09WSC4e/6HOq1WqceeaZ7Yeypk+fHqecckrKfY8YMSJGjBjRYduHP/zh2LRp037X3bFjR/zpT3+q6T8i9BX2VOhzhg0bFitXroyJEye2b+vKn993+y+0evXqmDFjRrS0tHTZY0N3sqdCv3PRRRfFwoULY9SoUd32i9C7Pc64cePixz/+cYfnW1asWBFLlizplrmgDKJCn3LqqafGpz/96bLHiIiIhoaGuOSSS/bb9otf/CI2b94czc3NJU0GXcc76qEbnXfeebF69eqYO3du2aNAl7CnQq+3cOHCGD9+fEREzJw5s+Rp3tugQYNi4MCBceGFF8bo0aNj6dKl0draWvZYkMYT9fR6jz76aDQ2NpY9Rqc1NTXFjBkzYvv27d7nQq9QSy4c/oKSjBs3Lp566qm46qqryh4F0ogKvd7f/va3WLFiRa/7bX/w4MFx2mmnxZgxY8oeBdJ4ToVe78Ybb4zJkyfHc889F/X19WWPA/2a51ToE4YPHx7z5s2LarUa9fX1cfPNN8eoUaPKHqsm7+xpLVq0KF555ZWyx4F35dxf9EtDhw6Nxx9/PE4++eT9TqnSHYqiiC1btsTu3bvbt9XV1cVRRx0VAwYc+OBAc3NzNDY2xvPPPx9bt27trlGhU2rKRVGjiLCsXrOOOOKI4rOf/WzR1tZW6494mra2tmLBggXFiBEj2te4ceOKtWvXvudtXn/99eLnP/956d87y3q3VQvPqdAnvfHGG7Fjx45ueaxly5bFqlWr2v9eFEWsWbOmwx7Hzp0740c/+lH7Z7jMmzcvjj/++PbLK5VKDB8+PKZMmRLXXHNN/Pa3v42mpqZumR9S1frbV/SASlr9Z1Wr1aKuru593ceCBQu6dE+lra2t2LNnT3H11Vd3erYHH3yw2LNnT7Fnz55i7969RVtbW9Ha2lq0trYWRVEUl1xySVGtVkv/d7CsfVctvKSYHqehoSF+85vfxNe+9rWyR3lPL774YsyZMyfuv//+Tt/2hhtuiNmzZ8fs2bPjzjvvjJaWlrjkkkvi+uuvj6Io4pvf/GY8+OCDMWzYsC6YHLqOw1/0CIcffnhMmTKl/TDQjBkz4uWXXy57rAMqiiJWr14dK1asiGefffaQ3h/zj3/8o/3PkydPjpNOOilWrFgRY8aMieXLl0dEREtLi89iofepdVc/esCul9V315w5c9oPBb1zOOiOO+54X/fZVYe/Wltbizlz5hSVSiXt69/3viqVSvsq+9/FsvZdtbCnQo9RV1fX4bPkD1V9fX0sWrQopk+fnv5S+GXLlsU999wTTU1NqXsR+95X5v1CdxMV+pRhw4bFUUcdFRdffHH7q6u2bdvW4T0j7xg0aFAMHz78oOF58803Y9euXRER8eyzz8bdd9+dPzj0EaJCn3LdddfFl7/85WhoaGjf9qUvfSkeffTR/a770Y9+NO67776D3ueiRYti6dKlERE+WAsOQlToExoaGmLhwoUxZ86c9veCrF27Nh577LFYvXp1bN68eb/bPP/883HnnXce9L6fffbZA94e2J+oULpKpXLA51L23V4Uxbs+11CpVGLs2LFx++23R319fRRFEW1tbfHXv/41vvCFL7zr465Zs+Y9Lwc6T1QoVV1dXdx1110xc+bM/Z7bmD9/fkyZMiUiIl566aW44oorYu/evfvdx/e///2YO3duDBw4MCIidu3aFZdddlmHd7kD3UNUKFWlUolTTjmlPR77GjVqVPuZhocPHx6zZs2Kf/3rX7Fp06aYOnVqDBo0KCIiZs+eHaeddlr77d7ZS/nnP//ZLV9DT3LYYYfFpEmT4uWXX46NGzeWPQ79Ua2vzY8e8Bppq++tarVarFix4qA/f++cxuTaa68thg8fXqxbt679tCb//70o27dvLyZOnFj611bGmjlzZrF79+7ii1/8YumzWH1veZ8KPdrcuXPjoosuivHjxx/0upVKJarVanzqU5+KqVOnxsiRI6NarXbDlL3LunXr4rrrrounn3667FHop3yeCt3qsMMOa/90xiuvvDJuueWW1PvfuXNnbN68OebOnRvr1q1LvW/o72rJhT0VutV3vvOdWLhwYUREl5ws8bbbboslS5Z4CTCURFToFsccc0w0NjbGGWecEWPGjOmyx9mxY4cnqKFEokKXeuew6eTJk+OHP/yhw6jQx4kKXebSSy+NK6+8MiLefkkw0PeJCu9LXV1dTJo0qf3J933Nnj07zjnnnBKmAsoiKrwvgwcPjvvvvz8mTpy432UZp7EHehdR4T0NHjw4brzxxg5n/d3XwIEDY/To0e2nSCnbvHnzoqGhIb773e/Gli1byh4H+h3vUyEi3v5skQO9xPfwww+Pp59+OsaOHVvCVIdmx44dcdppp/XL07RAV/I+FWr2iU98Ir73ve/tt71SqcTRRx9dwkRAbyQq/disWbPipJNOioiIc845J4499tiSJwJ6O1Hpxz7/+c/HVVddVfYYQB/i5Tn0OYMHD46f/vSncdNNN5U9CvQ79lTocwYMGBCzZ8+OV199texRoN+xpwJAGlHpxx544IFYtGhRbN++vexRgD5CVPqxJ554In7wgx/Ezp07yx4F6CNEBYA0ogJAGlEhImo7/QLAwTj3Vz83cODAOOuss2L+/Plx/fXXlz1Oqo0bN8bKlSs7bLv33nvjJz/5STkDQS/n3F8c1J49e2LZsmUxYsSIaGxsjAkTJnTJZ8eXYdSoUdHY2Nhh25///OeSpoH+weEvIiLiV7/6VUyfPj3+8pe/lD0K0Is5/EUHl156aRx33HEREXHBBRfEnDlzSp4o1/Lly+N3v/td3H777fHaa6+VPU5pGhsbY9asWbFkyZLYtm1b2ePQS9SUi6JGEWH1s3XLLbcU27dvL/bu3Vvrj0mvsGvXrmLy5Mmlf3/LXDfffHOxfv364rjjjit9Fqv3rFrYU+FdjRgxIsaNGxcPP/xwHHPMMWWPk6a5uTmmT58eL7zwQtmjlGbEiBFx+OGHx3//+99obW0texx6iVpy4Yl63tXWrVujubk5HnrooTj99NNj1qxZ3fr4a9eujeeee67DtlNPPTVOPPHEbp2jL9q6dWts3bq17DHoi2o9ZBA9YNfLKm9dfPHFRVtbW9HW1nZox5w64Z3HueOOO/ab49Zbb22/fN/VGQ5/WdahrVo4/EVNjjnmmJg2bVosXrw4zjjjjC59rG3btsU111wTq1atitWrV3e4bNKkSXH88ce3/71SqcRNN90U06ZNq/n+9+7dG3/4wx9i2bJlsXjx4qyxoc+rJRcOf1GTDRs2xIYNG2L+/PnR0NAQEyZMiLq6rnlFektLSzz++OMHfHXWmjVrYs2aNR22LViwIBoaGmL8+PE1zVStVmPu3LnR3NycNnNvUV9fH+PHj49KpRJtbW2xdu1az6mQq9ZDBtEDdr2s8tegQYOK008/vdi1a1enDjl1xsaNG4ujjz66UzNNmzataG5u7tTjPPLII6V/P7t7TZkypdi2bVuxc+fO4tVXX/XqL6tTqxb2VOiUlpaW+M9//hM333xzNDY2xkc+8pEOl99333377UlEREycODE+97nPdclh1P8/0znnnFPT7U444YS46aab4oEHHtjvMFtfVVdXF0OGDIlBgwZFa2urw9rkq/W3uugBlbR61vrGN75R7Nixo8OaP3/+Aa973nnn1fyEemf3VPZdixcvLnbu3Nmp99ZcdtllxZAhQ0r/fnbHmjp1arF79+6iKIrijTfeKMaPH1/6TFbvWTW1otb/eGV/MVbPWyNHjixOPPHEDmvYsGEHvG53RWXkyJHFqaeeWqxbt67WH+1iw4YNxVNPPVV84AMfKP172tVLVKz3s2rh8BeHbMuWLbFly5aarrtp06b284uNHTu2S2fasWNHPPLIIzFt2rSYOXPmQW8zZsyYGDhwYMybNy9Wr14dzz//fJfNV6azzjorpk+fHpVKJV544YVYtWpV7Nq1q+yx6Gtq/W0uekAlrd6/li5detCftfezp7LvWrBgQafew9LW1lbceuutpX+Pumo98cQT7d+Pr371q6XPY/W+VQtnKYb/ValUYt68eXH//ffHBz/4wbLHSXPuuefGgw8+GFOnTvXEPF3O4S96lNdeey3Wrl0be/fuLeXxTzjhhJgwYUIsXbo0du/eHevXry9ljgx1dXVx3HHHxfTp0+PjH/94bNiwIZqamiIi4vXXXy95OvqsWg8NRA/Y9bJ6/zrY4a+rr766GDp0aMpjdfbw1zva2tqKt956q3j00UeLSqVS+vfsUFdDQ0PR1NRUNDc3F21tbcUFF1xQDB06tBg6dGgxcODA0uezet+qhT0VutUvf/nL2Lx5c1x55ZUxZMiQ/S5vaWmJt956q8se/+mnn44nn3zyPa9TV1cXl19+eXzoQx+Kr3/961EURezcuTPuuOOOLp0t0/nnnx9nn312HH300fHSSy/FQw89FC+++GKvmZ9erNbf3qIHVNLqG+vYY48tNmzYUOzatavYtWtXh/eUXHHFFWmP87GPfaz9Md5ZixcvPujtBgwYUPzxj3/scLuXX365GDlyZFGtVov6+voOq1qtlvr9PNBMS5YsaZ/9zjvvLP3f3Ooby54KPdLGjRtj7ty5UVdXF9VqNe6999445ZRT0h/nySefjNNPP73DtlpeAt3a2hqf+cxnYvDgwe3b9u7dG9u2bYtPfvKT+52E8lvf+lb87Gc/S5n5UFx44YWxaNGiDtvuuuuu9q/9jTfeKGMs+ilRodu1trbG3//+94h4++SOXXVixx07dsRLL73UqdtMmDAhTj755P22t7S0xLp162L79u2xbt26DpeNHTs2zj///Ih4+8Sbq1atOuSZO2PQoEFx9tlnx5w5c+Lkk0+OZ555pv2jgZuamjr9tUMKh7+sMle1Wi1WrFjRJYe/DmVdd911B/y8lldffbU48sgjD3ibJUuWtF/vnnvu6bZZR48eXWzatKloa2srWltbizPPPLP0f0+rby+Hv6CTHn744QO+jHj37t3x5ptvHvA2d999d/z+97+PiIh///vf73n/s2bNiq985SsREfHKK6/EDTfcEC0tLYc067Zt2+Lyyy+P+vr6KIqife8PyiQqlG7Dhg3th5S2b99e6ixNTU3t7+Wo1cqVK2PlypU1XbehoSFmzJgREW9/XHK1Wu3siO2am5vj17/+9SHfHrqCT36kdEOHDm3/cK3du3fHnj17Sp6o6wwYMKD9BQDF/75UGXqLWnIhKgDUpJZcOPcXAGlEBYA0ogJAGlEBII2oAJBGVABIIyoApBEVANKICgBpRAWANKICQBpRASCNqACQRlQASCMqAKQRFQDSiAoAaUQFgDSiAkAaUQEgjagAkEZUAEgjKgCkERUA0ogKAGlEBYA0ogJAGlEBII2oAJBGVABIIyoApBEVANKICgBpRAWANKICQBpRASCNqACQRlQASCMqAKQRFQDSiAoAaUQFgDSiAkAaUQEgjagAkEZUAEgjKgCkERUA0ogKAGlEBYA0ogJAGlEBII2oAJBGVABIIyoApBEVANKICgBpRAWANKICQBpRASCNqACQRlQASCMqAKQRFQDSiAoAaUQFgDSiAkAaUQEgjagAkEZUAEgjKgCkERUA0ogKAGlEBYA0ogJAGlEBII2oAJBGVABIIyoApBEVANKICgBpRAWANKICQBpRASCNqACQRlQASCMqAKQRFQDSiAoAaUQFgDSiAkAaUQEgjagAkEZUAEgjKgCkERUA0ogKAGlEBYA0ogJAmgG1XrEoiq6cA4A+wJ4KAGlEBYA0ogJAGlEBII2oAJBGVABIIyoApBEVANKICgBp/gcjvUUJcrAI8gAAAABJRU5ErkJggg==\n"
                },
                "metadata": {}
              }
            ]
          }
        },
        "753057cb53134d9c8522a0b7355df9ab": {
          "model_module": "@jupyter-widgets/base",
          "model_name": "LayoutModel",
          "model_module_version": "1.2.0",
          "state": {
            "_model_module": "@jupyter-widgets/base",
            "_model_module_version": "1.2.0",
            "_model_name": "LayoutModel",
            "_view_count": null,
            "_view_module": "@jupyter-widgets/base",
            "_view_module_version": "1.2.0",
            "_view_name": "LayoutView",
            "align_content": null,
            "align_items": null,
            "align_self": null,
            "border": null,
            "bottom": null,
            "display": null,
            "flex": null,
            "flex_flow": null,
            "grid_area": null,
            "grid_auto_columns": null,
            "grid_auto_flow": null,
            "grid_auto_rows": null,
            "grid_column": null,
            "grid_gap": null,
            "grid_row": null,
            "grid_template_areas": null,
            "grid_template_columns": null,
            "grid_template_rows": null,
            "height": null,
            "justify_content": null,
            "justify_items": null,
            "left": null,
            "margin": null,
            "max_height": null,
            "max_width": null,
            "min_height": null,
            "min_width": null,
            "object_fit": null,
            "object_position": null,
            "order": null,
            "overflow": null,
            "overflow_x": null,
            "overflow_y": null,
            "padding": null,
            "right": null,
            "top": null,
            "visibility": null,
            "width": null
          }
        },
        "2a62581de4334009a3c0abb6b0f87ee4": {
          "model_module": "@jupyter-widgets/base",
          "model_name": "LayoutModel",
          "model_module_version": "1.2.0",
          "state": {
            "_model_module": "@jupyter-widgets/base",
            "_model_module_version": "1.2.0",
            "_model_name": "LayoutModel",
            "_view_count": null,
            "_view_module": "@jupyter-widgets/base",
            "_view_module_version": "1.2.0",
            "_view_name": "LayoutView",
            "align_content": null,
            "align_items": null,
            "align_self": null,
            "border": null,
            "bottom": null,
            "display": null,
            "flex": null,
            "flex_flow": null,
            "grid_area": null,
            "grid_auto_columns": null,
            "grid_auto_flow": null,
            "grid_auto_rows": null,
            "grid_column": null,
            "grid_gap": null,
            "grid_row": null,
            "grid_template_areas": null,
            "grid_template_columns": null,
            "grid_template_rows": null,
            "height": null,
            "justify_content": null,
            "justify_items": null,
            "left": null,
            "margin": null,
            "max_height": null,
            "max_width": null,
            "min_height": null,
            "min_width": null,
            "object_fit": null,
            "object_position": null,
            "order": null,
            "overflow": null,
            "overflow_x": null,
            "overflow_y": null,
            "padding": null,
            "right": null,
            "top": null,
            "visibility": null,
            "width": null
          }
        },
        "58c520a0ba1c498abf76db4a9e6036c9": {
          "model_module": "@jupyter-widgets/controls",
          "model_name": "ToggleButtonsStyleModel",
          "model_module_version": "1.5.0",
          "state": {
            "_model_module": "@jupyter-widgets/controls",
            "_model_module_version": "1.5.0",
            "_model_name": "ToggleButtonsStyleModel",
            "_view_count": null,
            "_view_module": "@jupyter-widgets/base",
            "_view_module_version": "1.2.0",
            "_view_name": "StyleView",
            "button_width": "",
            "description_width": "",
            "font_weight": ""
          }
        },
        "188092b9b18e4fc8b28391595ca319ae": {
          "model_module": "@jupyter-widgets/base",
          "model_name": "LayoutModel",
          "model_module_version": "1.2.0",
          "state": {
            "_model_module": "@jupyter-widgets/base",
            "_model_module_version": "1.2.0",
            "_model_name": "LayoutModel",
            "_view_count": null,
            "_view_module": "@jupyter-widgets/base",
            "_view_module_version": "1.2.0",
            "_view_name": "LayoutView",
            "align_content": null,
            "align_items": null,
            "align_self": null,
            "border": null,
            "bottom": null,
            "display": null,
            "flex": null,
            "flex_flow": null,
            "grid_area": null,
            "grid_auto_columns": null,
            "grid_auto_flow": null,
            "grid_auto_rows": null,
            "grid_column": null,
            "grid_gap": null,
            "grid_row": null,
            "grid_template_areas": null,
            "grid_template_columns": null,
            "grid_template_rows": null,
            "height": null,
            "justify_content": null,
            "justify_items": null,
            "left": null,
            "margin": null,
            "max_height": null,
            "max_width": null,
            "min_height": null,
            "min_width": null,
            "object_fit": null,
            "object_position": null,
            "order": null,
            "overflow": null,
            "overflow_x": null,
            "overflow_y": null,
            "padding": null,
            "right": null,
            "top": null,
            "visibility": null,
            "width": null
          }
        },
        "0a46f359a8b3440eb8861316dcd8928f": {
          "model_module": "@jupyter-widgets/controls",
          "model_name": "SliderStyleModel",
          "model_module_version": "1.5.0",
          "state": {
            "_model_module": "@jupyter-widgets/controls",
            "_model_module_version": "1.5.0",
            "_model_name": "SliderStyleModel",
            "_view_count": null,
            "_view_module": "@jupyter-widgets/base",
            "_view_module_version": "1.2.0",
            "_view_name": "StyleView",
            "description_width": "",
            "handle_color": null
          }
        },
        "cde28428d322493b98ed132f8dd0b7c0": {
          "model_module": "@jupyter-widgets/base",
          "model_name": "LayoutModel",
          "model_module_version": "1.2.0",
          "state": {
            "_model_module": "@jupyter-widgets/base",
            "_model_module_version": "1.2.0",
            "_model_name": "LayoutModel",
            "_view_count": null,
            "_view_module": "@jupyter-widgets/base",
            "_view_module_version": "1.2.0",
            "_view_name": "LayoutView",
            "align_content": null,
            "align_items": null,
            "align_self": null,
            "border": null,
            "bottom": null,
            "display": null,
            "flex": null,
            "flex_flow": null,
            "grid_area": null,
            "grid_auto_columns": null,
            "grid_auto_flow": null,
            "grid_auto_rows": null,
            "grid_column": null,
            "grid_gap": null,
            "grid_row": null,
            "grid_template_areas": null,
            "grid_template_columns": null,
            "grid_template_rows": null,
            "height": null,
            "justify_content": null,
            "justify_items": null,
            "left": null,
            "margin": null,
            "max_height": null,
            "max_width": null,
            "min_height": null,
            "min_width": null,
            "object_fit": null,
            "object_position": null,
            "order": null,
            "overflow": null,
            "overflow_x": null,
            "overflow_y": null,
            "padding": null,
            "right": null,
            "top": null,
            "visibility": null,
            "width": null
          }
        }
      }
    }
  },
  "nbformat": 4,
  "nbformat_minor": 0
}